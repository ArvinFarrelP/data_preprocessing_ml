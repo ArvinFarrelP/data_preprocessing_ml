{
 "cells": [
  {
   "cell_type": "code",
   "execution_count": 3,
   "id": "f259629a-8289-4e56-9efc-5234c08e48ba",
   "metadata": {},
   "outputs": [
    {
     "name": "stderr",
     "output_type": "stream",
     "text": [
      "[nltk_data] Downloading package punkt to\n",
      "[nltk_data]     C:\\Users\\asus\\AppData\\Roaming\\nltk_data...\n",
      "[nltk_data]   Package punkt is already up-to-date!\n",
      "[nltk_data] Downloading package stopwords to\n",
      "[nltk_data]     C:\\Users\\asus\\AppData\\Roaming\\nltk_data...\n",
      "[nltk_data]   Package stopwords is already up-to-date!\n",
      "[nltk_data] Downloading package punkt_tab to\n",
      "[nltk_data]     C:\\Users\\asus\\AppData\\Roaming\\nltk_data...\n",
      "[nltk_data]   Unzipping tokenizers\\punkt_tab.zip.\n"
     ]
    },
    {
     "name": "stdout",
     "output_type": "stream",
     "text": [
      "Processed Texts: ['suka belajar machin learn', 'machin learn menarik bermanfaat', 'eksperimen nlp']\n",
      "Stored 'processed_texts' (list)\n"
     ]
    }
   ],
   "source": [
    "import nltk\n",
    "from nltk.tokenize import word_tokenize\n",
    "from nltk.corpus import stopwords\n",
    "from nltk.stem import PorterStemmer\n",
    "import string\n",
    "\n",
    "nltk.download('punkt')\n",
    "nltk.download('stopwords')\n",
    "nltk.download('punkt_tab')  \n",
    "\n",
    "texts = [\n",
    "    \"Saya suka belajar machine learning.\",\n",
    "    \"Machine learning sangat menarik dan bermanfaat.\",\n",
    "    \"Saya sedang melakukan eksperimen dengan NLP.\"\n",
    "]\n",
    "\n",
    "def preprocess_text(text):\n",
    "    text = text.lower()  \n",
    "    text = text.translate(str.maketrans('', '', string.punctuation))  \n",
    "    tokens = word_tokenize(text) \n",
    "    stop_words = set(stopwords.words('indonesian'))\n",
    "    tokens = [word for word in tokens if word not in stop_words]  \n",
    "    stemmer = PorterStemmer()\n",
    "    tokens = [stemmer.stem(word) for word in tokens] \n",
    "    return ' '.join(tokens)\n",
    "\n",
    "processed_texts = [preprocess_text(text) for text in texts]\n",
    "print(\"Processed Texts:\", processed_texts)\n",
    "\n",
    "%store processed_texts\n"
   ]
  },
  {
   "cell_type": "code",
   "execution_count": null,
   "id": "8cca3b0d-889f-467c-86d4-10932e809f12",
   "metadata": {},
   "outputs": [],
   "source": []
  }
 ],
 "metadata": {
  "kernelspec": {
   "display_name": "Python (crypto_ml)",
   "language": "python",
   "name": "crypto_ml"
  },
  "language_info": {
   "codemirror_mode": {
    "name": "ipython",
    "version": 3
   },
   "file_extension": ".py",
   "mimetype": "text/x-python",
   "name": "python",
   "nbconvert_exporter": "python",
   "pygments_lexer": "ipython3",
   "version": "3.12.9"
  }
 },
 "nbformat": 4,
 "nbformat_minor": 5
}
