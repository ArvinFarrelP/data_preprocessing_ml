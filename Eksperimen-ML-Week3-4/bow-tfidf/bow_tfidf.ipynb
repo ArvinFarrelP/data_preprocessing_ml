{
 "cells": [
  {
   "cell_type": "code",
   "execution_count": 2,
   "id": "d78bb4ad-f376-407d-a128-50fce37728a8",
   "metadata": {},
   "outputs": [
    {
     "name": "stdout",
     "output_type": "stream",
     "text": [
      "Bag of Words (BoW):\n",
      "[[1 0 0 0 0 1 1 0 0 0 0 1 0 1]\n",
      " [0 1 1 0 0 1 1 0 1 0 1 0 0 0]\n",
      " [0 0 0 1 1 0 0 1 0 1 0 1 1 0]]\n",
      "Feature Names (BoW):\n",
      "['belajar' 'bermanfaat' 'dan' 'dengan' 'eksperimen' 'learning' 'machine'\n",
      " 'melakukan' 'menarik' 'nlp' 'sangat' 'saya' 'sedang' 'suka']\n",
      "\n",
      "TF-IDF:\n",
      "[[0.51741994 0.         0.         0.         0.         0.3935112\n",
      "  0.3935112  0.         0.         0.         0.         0.3935112\n",
      "  0.         0.51741994]\n",
      " [0.         0.44036207 0.44036207 0.         0.         0.3349067\n",
      "  0.3349067  0.         0.44036207 0.         0.44036207 0.\n",
      "  0.         0.        ]\n",
      " [0.         0.         0.         0.42339448 0.42339448 0.\n",
      "  0.         0.42339448 0.         0.42339448 0.         0.32200242\n",
      "  0.42339448 0.        ]]\n",
      "Feature Names (TF-IDF):\n",
      "['belajar' 'bermanfaat' 'dan' 'dengan' 'eksperimen' 'learning' 'machine'\n",
      " 'melakukan' 'menarik' 'nlp' 'sangat' 'saya' 'sedang' 'suka']\n",
      "Stored 'bow_matrix' (csr_matrix)\n",
      "Stored 'tfidf_matrix' (csr_matrix)\n"
     ]
    }
   ],
   "source": [
    "from sklearn.feature_extraction.text import CountVectorizer, TfidfVectorizer\n",
    "\n",
    "texts = [\n",
    "    \"Saya suka belajar machine learning.\",\n",
    "    \"Machine learning sangat menarik dan bermanfaat.\",\n",
    "    \"Saya sedang melakukan eksperimen dengan NLP.\"\n",
    "]\n",
    "\n",
    "vectorizer_bow = CountVectorizer()\n",
    "bow_matrix = vectorizer_bow.fit_transform(texts)\n",
    "print(\"Bag of Words (BoW):\")\n",
    "print(bow_matrix.toarray())\n",
    "print(\"Feature Names (BoW):\")\n",
    "print(vectorizer_bow.get_feature_names_out())\n",
    "\n",
    "vectorizer_tfidf = TfidfVectorizer()\n",
    "tfidf_matrix = vectorizer_tfidf.fit_transform(texts)\n",
    "print(\"\\nTF-IDF:\")\n",
    "print(tfidf_matrix.toarray())\n",
    "print(\"Feature Names (TF-IDF):\")\n",
    "print(vectorizer_tfidf.get_feature_names_out())\n",
    "\n",
    "%store bow_matrix\n",
    "%store tfidf_matrix\n"
   ]
  },
  {
   "cell_type": "code",
   "execution_count": null,
   "id": "7d3fe440-551f-412a-913a-7f801412d512",
   "metadata": {},
   "outputs": [],
   "source": []
  }
 ],
 "metadata": {
  "kernelspec": {
   "display_name": "Python (crypto_ml)",
   "language": "python",
   "name": "crypto_ml"
  },
  "language_info": {
   "codemirror_mode": {
    "name": "ipython",
    "version": 3
   },
   "file_extension": ".py",
   "mimetype": "text/x-python",
   "name": "python",
   "nbconvert_exporter": "python",
   "pygments_lexer": "ipython3",
   "version": "3.12.9"
  }
 },
 "nbformat": 4,
 "nbformat_minor": 5
}
